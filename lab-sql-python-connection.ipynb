{
 "cells": [
  {
   "cell_type": "code",
   "execution_count": 17,
   "metadata": {},
   "outputs": [],
   "source": [
    "# 1 Establish a connection between Python and the Sakila database.\n",
    "# Load .evn file with password db_pass\n",
    "from dotenv import load_dotenv\n",
    "import os\n",
    "load_dotenv()\n",
    "\n",
    "db_pass = os.getenv(\"db_pass\") \n",
    "\n",
    "\n",
    "import pandas as pd\n",
    "import pymysql\n",
    "from sqlalchemy import create_engine\n",
    "\n",
    "\n",
    "# Obtener la contraseña de forma segura\n",
    "password = db_pass\n",
    "\n",
    "# Configuración de la base de datos y la conexión\n",
    "bd = \"sakila\"\n",
    "connection_string = 'mysql+pymysql://root:' + password + '@localhost/' + bd\n",
    "engine = create_engine(connection_string)"
   ]
  },
  {
   "cell_type": "code",
   "execution_count": 18,
   "metadata": {},
   "outputs": [],
   "source": [
    "\"\"\"\n",
    "2\n",
    "Write a Python function called rentals_month that retrieves rental data for a given month and year (passed as parameters) from the Sakila database\n",
    " as a Pandas DataFrame. The function should take in three parameters:\n",
    "\n",
    "engine: an object representing the database connection engine to be used to establish a connection to the Sakila database.\n",
    "month: an integer representing the month for which rental data is to be retrieved.\n",
    "year: an integer representing the year for which rental data is to be retrieved.\n",
    "The function should execute a SQL query to retrieve the rental data for the specified month and year from the rental table \n",
    "in the Sakila database, and return it as a pandas DataFrame.\n",
    "\"\"\"\n",
    "def rental_month(engine,month,year):\n",
    "    import pandas as pd\n",
    "    query=f\"\"\"\n",
    "    SELECT *\n",
    "    FROM sakila.rental\n",
    "    WHERE DATE_FORMAT(rental_date, '%%Y-%%m')= \"{year}-{month:02}\";\n",
    "    \"\"\"\n",
    "    df_query = pd.read_sql(query, engine)\n",
    "    return df_query\n"
   ]
  },
  {
   "cell_type": "code",
   "execution_count": 19,
   "metadata": {},
   "outputs": [
    {
     "name": "stdout",
     "output_type": "stream",
     "text": [
      "   rental_id         rental_date  inventory_id  customer_id return_date  \\\n",
      "0      11496 2006-02-14 15:16:03          2047          155        None   \n",
      "1      11541 2006-02-14 15:16:03          2026          335        None   \n",
      "2      11563 2006-02-14 15:16:03          1545           83        None   \n",
      "3      11577 2006-02-14 15:16:03          4106          219        None   \n",
      "4      11593 2006-02-14 15:16:03           817           99        None   \n",
      "\n",
      "   staff_id         last_update  \n",
      "0         1 2006-02-15 21:30:53  \n",
      "1         1 2006-02-15 21:30:53  \n",
      "2         1 2006-02-15 21:30:53  \n",
      "3         2 2006-02-15 21:30:53  \n",
      "4         1 2006-02-15 21:30:53  \n"
     ]
    }
   ],
   "source": [
    "df=rental_month(engine, 2,2006)\n",
    "print(df.head())"
   ]
  },
  {
   "cell_type": "code",
   "execution_count": 20,
   "metadata": {},
   "outputs": [],
   "source": [
    "\n",
    "\n",
    "\"\"\"3 Develop a Python function called rental_count_month that takes the DataFrame provided by rentals_month as input along with the month and year \n",
    "and returns a new DataFrame containing the number of rentals made by each customer_id during the selected month and year.\n",
    "\n",
    "The function should also include the month and year as parameters and use them to name the new column according to the month and year,\n",
    " for example, if the input month is 05 and the year is 2005, the column name should be \"rentals_05_2005\".\n",
    "\n",
    "Hint: Consider making use of pandas groupby()\n",
    "\"\"\"\n",
    "def rental_count_month(rental_df, month, year):\n",
    "    \"\"\"\n",
    "    Function to count rentals made by each customer_id during a specified month and year.\n",
    "\n",
    "    Parameters:\n",
    "        rental_df (pd.DataFrame): DataFrame containing rental data (output of rentals_month).\n",
    "        month (int): The month for which rental data is being analyzed.\n",
    "        year (int): The year for which rental data is being analyzed.\n",
    "\n",
    "    Returns:\n",
    "        pd.DataFrame: DataFrame containing customer_id and their respective rental counts,\n",
    "                      with the column named based on the provided month and year.\n",
    "    \"\"\"\n",
    "    import pandas as pd\n",
    "\n",
    "    # Format the column name based on the month and year\n",
    "    column_name = f\"rentals_{month:02}_{year}\"\n",
    "\n",
    "    # Group by customer_id and count the number of rentals\n",
    "    rental_counts = (\n",
    "        rental_df.groupby(\"customer_id\")\n",
    "        .size()\n",
    "        .reset_index(name=column_name)\n",
    "    )\n",
    "\n",
    "    return rental_counts\n",
    "\n"
   ]
  },
  {
   "cell_type": "code",
   "execution_count": 21,
   "metadata": {},
   "outputs": [],
   "source": [
    "rental_counts_df = rental_count_month(df, 2, 2006)"
   ]
  },
  {
   "cell_type": "code",
   "execution_count": 22,
   "metadata": {},
   "outputs": [
    {
     "name": "stdout",
     "output_type": "stream",
     "text": [
      "   customer_id  rentals_02_2006\n",
      "0            5                1\n",
      "1            9                1\n",
      "2           11                1\n",
      "3           14                1\n",
      "4           15                2\n"
     ]
    }
   ],
   "source": [
    "print(rental_counts_df.head())"
   ]
  }
 ],
 "metadata": {
  "kernelspec": {
   "display_name": "primerlab",
   "language": "python",
   "name": "python3"
  },
  "language_info": {
   "codemirror_mode": {
    "name": "ipython",
    "version": 3
   },
   "file_extension": ".py",
   "mimetype": "text/x-python",
   "name": "python",
   "nbconvert_exporter": "python",
   "pygments_lexer": "ipython3",
   "version": "3.11.10"
  }
 },
 "nbformat": 4,
 "nbformat_minor": 2
}
